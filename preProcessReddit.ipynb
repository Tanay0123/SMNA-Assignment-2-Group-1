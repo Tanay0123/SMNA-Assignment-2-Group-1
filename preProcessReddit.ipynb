{
 "cells": [
  {
   "cell_type": "code",
   "execution_count": 59,
   "id": "3852ad4b-b62d-48f9-8de6-e1dc3d9ad5a6",
   "metadata": {},
   "outputs": [],
   "source": [
    "import json\n",
    "import RedditProcessing\n",
    "import nltk\n",
    "from nltk.tokenize import word_tokenize\n",
    "from nltk.corpus import stopwords"
   ]
  },
  {
   "cell_type": "code",
   "execution_count": 61,
   "id": "54ad5d9c-59cc-42fc-8ee6-834fb66f0455",
   "metadata": {},
   "outputs": [],
   "source": [
    "class NLTKTokenizer:\n",
    "    def tokenize(self, text):\n",
    "        return word_tokenize(text)"
   ]
  },
  {
   "cell_type": "code",
   "execution_count": 63,
   "id": "ac7fe0c6-4fb1-45f6-9bb7-8cfb0a932503",
   "metadata": {},
   "outputs": [],
   "source": [
    "with open('question1_maybelline2.json', 'r') as json_file:\n",
    "    submission_data = json.load(json_file) "
   ]
  },
  {
   "cell_type": "code",
   "execution_count": 65,
   "id": "821cd7fb-2456-4be7-a7d3-7865daa9aadd",
   "metadata": {},
   "outputs": [],
   "source": [
    "tokeniser = NLTKTokenizer()  # Use the NLTK tokenizer\n",
    "nltk_stopwords = set(stopwords.words('english'))\n",
    "\n",
    "reddit_processor = RedditProcessing.RedditProcessing(tokeniser, nltk_stopwords)\n",
    "\n",
    "processed_data = []\n",
    "for submission in submission_data:\n",
    "    processed_submission = {\n",
    "        'id': submission['id'],\n",
    "        'title': reddit_processor.process(submission['title']),\n",
    "        'text': reddit_processor.process(submission['text']),\n",
    "        'date_created': submission['date_created'],\n",
    "        'comments': submission['comments'],\n",
    "        'processed_comments': []\n",
    "    }\n",
    "    \n",
    "    for comment in submission['comments']:\n",
    "        processed_comment = reddit_processor.process(comment)\n",
    "        processed_submission['processed_comments'].append(processed_comment)\n",
    "    \n",
    "    processed_data.append(processed_submission)\n",
    "\n",
    "with open('preprocessed_question1_maybelline2.json', 'w') as json_file:\n",
    "    json.dump(processed_data, json_file, indent=4)\n"
   ]
  },
  {
   "cell_type": "code",
   "execution_count": null,
   "id": "87ce155e-0f0f-4adc-a449-d7fdc1ebe578",
   "metadata": {},
   "outputs": [],
   "source": []
  }
 ],
 "metadata": {
  "kernelspec": {
   "display_name": "Python 3 (ipykernel)",
   "language": "python",
   "name": "python3"
  },
  "language_info": {
   "codemirror_mode": {
    "name": "ipython",
    "version": 3
   },
   "file_extension": ".py",
   "mimetype": "text/x-python",
   "name": "python",
   "nbconvert_exporter": "python",
   "pygments_lexer": "ipython3",
   "version": "3.12.2"
  }
 },
 "nbformat": 4,
 "nbformat_minor": 5
}
