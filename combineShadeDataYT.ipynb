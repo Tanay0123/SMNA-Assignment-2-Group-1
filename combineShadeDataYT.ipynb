{
 "cells": [
  {
   "cell_type": "code",
   "execution_count": 15,
   "id": "a2bf1767-33fa-4c72-8448-d3137c10fca3",
   "metadata": {},
   "outputs": [],
   "source": [
    "import json\n",
    "import glob"
   ]
  },
  {
   "cell_type": "code",
   "execution_count": 17,
   "id": "69684709-77fc-4735-8867-411bdf5775b3",
   "metadata": {},
   "outputs": [],
   "source": [
    "json_files = ['preprocessed_question1_fenty.json', 'preprocessed_question1_maybelline.json', 'preprocessed_question1_tarte.json']\n",
    "\n",
    "combined_data = []\n",
    "for file_name in json_files:\n",
    "    with open(file_name, 'r') as f:\n",
    "        data = json.load(f)\n",
    "        combined_data.extend(data)  \n",
    "\n",
    "output_file_name = 'combined_data.json'\n",
    "\n",
    "with open(output_file_name, 'w') as outfile:\n",
    "    json.dump(combined_data, outfile, indent=4)"
   ]
  }
 ],
 "metadata": {
  "kernelspec": {
   "display_name": "Python 3 (ipykernel)",
   "language": "python",
   "name": "python3"
  },
  "language_info": {
   "codemirror_mode": {
    "name": "ipython",
    "version": 3
   },
   "file_extension": ".py",
   "mimetype": "text/x-python",
   "name": "python",
   "nbconvert_exporter": "python",
   "pygments_lexer": "ipython3",
   "version": "3.12.2"
  }
 },
 "nbformat": 4,
 "nbformat_minor": 5
}
