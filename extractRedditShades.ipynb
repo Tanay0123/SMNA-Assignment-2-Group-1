{
 "cells": [
  {
   "cell_type": "code",
   "execution_count": 18,
   "id": "83f8880f-cde2-43fc-bc3a-505542cd855e",
   "metadata": {},
   "outputs": [
    {
     "name": "stdout",
     "output_type": "stream",
     "text": [
      "The autoreload extension is already loaded. To reload it, use:\n",
      "  %reload_ext autoreload\n"
     ]
    }
   ],
   "source": [
    "%load_ext autoreload\n",
    "%autoreload 1\n",
    "%aimport redditClient"
   ]
  },
  {
   "cell_type": "code",
   "execution_count": 20,
   "id": "173d1328-6baa-49f5-8877-06cb7006b0cd",
   "metadata": {},
   "outputs": [],
   "source": [
    "from redditClient import redditClient\n",
    "import matplotlib.pyplot as plt\n",
    "import praw\n",
    "import json\n",
    "import os"
   ]
  },
  {
   "cell_type": "code",
   "execution_count": 22,
   "id": "3f6a5e61-a767-4c7b-9a62-e36ec8f8b03c",
   "metadata": {},
   "outputs": [],
   "source": [
    "client = redditClient()\n",
    "query = 'fenty foundation'\n",
    "# subredditName = 'BeautyGuruChatter'\n",
    "# subreddit = client.subreddit(subredditName)"
   ]
  },
  {
   "cell_type": "code",
   "execution_count": 24,
   "id": "1212048a-f5c6-486a-8afb-853fca4c5f84",
   "metadata": {},
   "outputs": [],
   "source": [
    "def contains_topics(topics, text):\n",
    "    for topic in topics:\n",
    "        if topic not in text:\n",
    "            return False\n",
    "    return True"
   ]
  },
  {
   "cell_type": "code",
   "execution_count": 26,
   "id": "bc91513c-11d5-4114-8dab-c3b01cfae17a",
   "metadata": {},
   "outputs": [],
   "source": [
    "search_results = client.subreddit('all').search(query)\n",
    "submission_data = []\n",
    "topics = ['FENTY', 'FOUNDATION']\n",
    "\n",
    "for submission in search_results:\n",
    "    title_upper = submission.title.upper()\n",
    "    selftext_upper = submission.selftext.upper()\n",
    "\n",
    "    if contains_topics(topics, title_upper) or contains_topics(topics, selftext_upper):\n",
    "        comments = []\n",
    "            \n",
    "        for comment in submission.comments:\n",
    "            if isinstance(comment, praw.models.MoreComments):\n",
    "                continue  \n",
    "            comments.append(comment.body)\n",
    "    \n",
    "        submission_info = {\n",
    "            'id': submission.id,\n",
    "            'title': submission.title, \n",
    "            'text': submission.selftext,\n",
    "            'date_created': submission.created_utc,\n",
    "            'comments': comments\n",
    "            }\n",
    "            \n",
    "        submission_data.append(submission_info)\n",
    "\n",
    "with open('question1_fenty2.json', 'w') as json_file:\n",
    "    json.dump(submission_data, json_file, indent=4)"
   ]
  },
  {
   "cell_type": "code",
   "execution_count": null,
   "id": "1c07fc6c-f5a5-4e69-8bc3-7223e194f5aa",
   "metadata": {},
   "outputs": [],
   "source": []
  }
 ],
 "metadata": {
  "kernelspec": {
   "display_name": "Python 3 (ipykernel)",
   "language": "python",
   "name": "python3"
  },
  "language_info": {
   "codemirror_mode": {
    "name": "ipython",
    "version": 3
   },
   "file_extension": ".py",
   "mimetype": "text/x-python",
   "name": "python",
   "nbconvert_exporter": "python",
   "pygments_lexer": "ipython3",
   "version": "3.12.2"
  }
 },
 "nbformat": 4,
 "nbformat_minor": 5
}
