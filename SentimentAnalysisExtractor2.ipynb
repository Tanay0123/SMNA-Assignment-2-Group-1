{
 "cells": [
  {
   "cell_type": "code",
   "execution_count": 1,
   "id": "2a96fcdf-9039-4595-88b0-9120195cb8d7",
   "metadata": {},
   "outputs": [],
   "source": [
    "%load_ext autoreload\n",
    "%autoreload 1\n",
    "%aimport redditClient"
   ]
  },
  {
   "cell_type": "code",
   "execution_count": 2,
   "id": "4fcb0a20-cfb9-4275-8b03-aff8cc423e0f",
   "metadata": {},
   "outputs": [],
   "source": [
    "from redditClient import redditClient\n",
    "import praw\n",
    "import json\n",
    "from datetime import datetime, timedelta\n",
    "import time"
   ]
  },
  {
   "cell_type": "code",
   "execution_count": 3,
   "id": "519f610f-bdad-4a31-9fdc-104842e0d202",
   "metadata": {},
   "outputs": [],
   "source": [
    "reddit = redditClient()"
   ]
  },
  {
   "cell_type": "code",
   "execution_count": 4,
   "id": "437eff21-f1aa-4a06-8787-ef59e6dbfed4",
   "metadata": {},
   "outputs": [],
   "source": [
    "subreddit_name = 'AsianBeauty'\n",
    "subreddit = reddit.subreddit(subreddit_name)"
   ]
  },
  {
   "cell_type": "code",
   "execution_count": 6,
   "id": "bb4d4144-cde2-47e2-8c1f-966e3cc66358",
   "metadata": {},
   "outputs": [],
   "source": [
    "def get_comments(submission):\n",
    "    \"\"\"\n",
    "    Extract the comments from a Reddit submission, excluding AutoModerator comments.\n",
    "    \"\"\"\n",
    "    submission.comments.replace_more(limit=None)\n",
    "    comments = []\n",
    "    for comment in submission.comments.list():\n",
    "        # Exclude comments made by AutoModerator\n",
    "        if comment.author != \"AutoModerator\":\n",
    "            comments.append({\n",
    "                'author': str(comment.author),\n",
    "                'text': comment.body,\n",
    "                'created': comment.created_utc\n",
    "                \n",
    "            })\n",
    "    return comments"
   ]
  },
  {
   "cell_type": "code",
   "execution_count": 7,
   "id": "1bdcc25f-399f-4ab7-a627-c452126563b5",
   "metadata": {},
   "outputs": [],
   "source": [
    "# Store results in a list\n",
    "posts = []"
   ]
  },
  {
   "cell_type": "code",
   "execution_count": 8,
   "id": "8ab9f2f9-61cf-4971-86c2-6bbd372b6333",
   "metadata": {
    "scrolled": true
   },
   "outputs": [],
   "source": [
    "# Extract submissions from the last 6 months\n",
    "for submission in subreddit.top(time_filter='year', limit=200):   \n",
    "    post = {\n",
    "        'title': submission.title,\n",
    "        'text': submission.selftext,\n",
    "        'created': submission.created_utc,\n",
    "        'url': submission.url,\n",
    "        'author': str(submission.author),\n",
    "        'comments': get_comments(submission)  # Get comments for each post\n",
    "    }\n",
    "    if post['author'] != \"AutoModerator\":\n",
    "        posts.append(post)\n",
    "    \n",
    "    # Optional sleep to avoid Reddit API rate limit\n",
    "    time.sleep(2)"
   ]
  },
  {
   "cell_type": "code",
   "execution_count": 16,
   "id": "76c97bee-3f38-41fe-9197-7db6911cf83c",
   "metadata": {},
   "outputs": [
    {
     "name": "stdout",
     "output_type": "stream",
     "text": [
      "Data successfully exported to asian_beauty_last_6_months_v3.json\n"
     ]
    }
   ],
   "source": [
    "# Save the extracted data to a JSON file\n",
    "output_filename = 'asian_beauty_last_6_months_v3.json'\n",
    "with open(output_filename, 'w', encoding='utf-8') as f:\n",
    "    json.dump(posts, f, ensure_ascii=False, indent=4)\n",
    "\n",
    "print(f\"Data successfully exported to {output_filename}\")"
   ]
  },
  {
   "cell_type": "code",
   "execution_count": null,
   "id": "c63d0a01-8f3c-4ece-82f2-07632c01b065",
   "metadata": {},
   "outputs": [],
   "source": []
  }
 ],
 "metadata": {
  "kernelspec": {
   "display_name": "Python 3 (ipykernel)",
   "language": "python",
   "name": "python3"
  },
  "language_info": {
   "codemirror_mode": {
    "name": "ipython",
    "version": 3
   },
   "file_extension": ".py",
   "mimetype": "text/x-python",
   "name": "python",
   "nbconvert_exporter": "python",
   "pygments_lexer": "ipython3",
   "version": "3.12.4"
  }
 },
 "nbformat": 4,
 "nbformat_minor": 5
}
